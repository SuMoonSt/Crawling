{
 "cells": [
  {
   "cell_type": "code",
   "execution_count": 1,
   "metadata": {},
   "outputs": [
    {
     "ename": "KeyError",
     "evalue": "'user'",
     "output_type": "error",
     "traceback": [
      "\u001b[1;31m---------------------------------------------------------------------------\u001b[0m",
      "\u001b[1;31mKeyError\u001b[0m                                  Traceback (most recent call last)",
      "Cell \u001b[1;32mIn[1], line 8\u001b[0m\n\u001b[0;32m      6\u001b[0m nick \u001b[38;5;241m=\u001b[39m \u001b[38;5;124m\"\u001b[39m\u001b[38;5;124mCranz\u001b[39m\u001b[38;5;124m\"\u001b[39m\n\u001b[0;32m      7\u001b[0m info_req \u001b[38;5;241m=\u001b[39m requests\u001b[38;5;241m.\u001b[39mget(\u001b[38;5;124mf\u001b[39m\u001b[38;5;124m\"\u001b[39m\u001b[38;5;132;01m{\u001b[39;00mbase_url\u001b[38;5;132;01m}\u001b[39;00m\u001b[38;5;124muser/nickname?query=\u001b[39m\u001b[38;5;132;01m{\u001b[39;00mnick\u001b[38;5;132;01m}\u001b[39;00m\u001b[38;5;124m\"\u001b[39m, headers\u001b[38;5;241m=\u001b[39mheaders)\n\u001b[1;32m----> 8\u001b[0m userNum \u001b[38;5;241m=\u001b[39m \u001b[43minfo_req\u001b[49m\u001b[38;5;241;43m.\u001b[39;49m\u001b[43mjson\u001b[49m\u001b[43m(\u001b[49m\u001b[43m)\u001b[49m\u001b[43m[\u001b[49m\u001b[38;5;124;43m\"\u001b[39;49m\u001b[38;5;124;43muser\u001b[39;49m\u001b[38;5;124;43m\"\u001b[39;49m\u001b[43m]\u001b[49m[\u001b[38;5;124m\"\u001b[39m\u001b[38;5;124muserNum\u001b[39m\u001b[38;5;124m\"\u001b[39m]\n\u001b[0;32m      9\u001b[0m seasonId \u001b[38;5;241m=\u001b[39m \u001b[38;5;241m25\u001b[39m \u001b[38;5;66;03m#EA9*2 = 18  정규3*2 = 6\u001b[39;00m\n\u001b[0;32m     10\u001b[0m matchingTeamMode \u001b[38;5;241m=\u001b[39m \u001b[38;5;241m3\u001b[39m \u001b[38;5;66;03m#스쿼드 3\u001b[39;00m\n",
      "\u001b[1;31mKeyError\u001b[0m: 'user'"
     ]
    }
   ],
   "source": [
    "import requests\n",
    "\n",
    "api_key = \"tFsiNYGlx9804COuSaIew4n2HQuDE31faZmSiMl3\"\n",
    "base_url = \"https://open-api.bser.io/v1/\"\n",
    "headers = {\"x-api-key\": api_key}\n",
    "nick = \"Cranz\"\n",
    "info_req = requests.get(f\"{base_url}user/nickname?query={nick}\", headers=headers)\n",
    "userNum = info_req.json()[\"user\"][\"userNum\"]\n",
    "seasonId = 25 #EA9*2 = 18  정규3*2 = 6\n",
    "matchingTeamMode = 3 #스쿼드 3\n",
    "rank_req = requests.get(f\"{base_url}user/games/{userNum}\", headers=headers)\n",
    "\n",
    "gameId = rank_req.json()[\"userGames\"][0][\"gameId\"]\n",
    "match_req = requests.get(f\"{base_url}games/{gameId}\", headers=headers)\n",
    "print(match_req.json()[\"userGames\"])"
   ]
  },
  {
   "cell_type": "code",
   "execution_count": null,
   "metadata": {},
   "outputs": [],
   "source": []
  }
 ],
 "metadata": {
  "kernelspec": {
   "display_name": "Python 3",
   "language": "python",
   "name": "python3"
  },
  "language_info": {
   "codemirror_mode": {
    "name": "ipython",
    "version": 3
   },
   "file_extension": ".py",
   "mimetype": "text/x-python",
   "name": "python",
   "nbconvert_exporter": "python",
   "pygments_lexer": "ipython3",
   "version": "3.12.1"
  }
 },
 "nbformat": 4,
 "nbformat_minor": 2
}
