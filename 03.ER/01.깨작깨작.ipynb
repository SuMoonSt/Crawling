{
 "cells": [
  {
   "cell_type": "code",
   "execution_count": 1,
   "metadata": {},
   "outputs": [
    {
     "name": "stdout",
     "output_type": "stream",
     "text": [
      "{'userNum': 2455111, 'nickname': 'Cranz', 'gameId': 37893780, 'seasonId': 25, 'matchingMode': 3, 'matchingTeamMode': 3, 'characterNum': 25, 'skinCode': 1025003, 'characterLevel': 19, 'gameRank': 4, 'playerKill': 11, 'playerAssistant': 6, 'monsterKill': 43, 'bestWeapon': 11, 'bestWeaponLevel': 20, 'masteryLevel': {'11': 20, '201': 19, '202': 15, '101': 11, '102': 10, '103': 14}, 'equipment': {'0': 118404, '1': 202510, '2': 201414, '3': 705614, '4': 204509}, 'versionMajor': 27, 'versionMinor': 0, 'language': 'Korean', 'skillLevelInfo': {'1025400': 4, '1025200': 5, '1025300': 5, '1025100': 2, '1025500': 3, '3011000': 3}, 'skillOrderInfo': {'1': 1025400, '2': 1025200, '3': 1025200, '4': 1025300, '5': 1025100, '6': 1025500, '7': 1025200, '8': 3011000, '9': 1025200, '10': 1025100, '11': 1025200, '12': 1025500, '13': 3011000, '14': 1025300, '15': 1025300, '16': 1025300, '17': 3011000, '18': 1025300, '19': 1025500, '20': 1025400, '21': 1025400, '22': 1025400}, 'serverName': 'Asia', 'maxHp': 2452, 'maxSp': 950, 'attackPower': 341, 'defense': 124, 'hpRegen': 2.37, 'spRegen': 3.64, 'attackSpeed': 1.3, 'moveSpeed': 3.98, 'outOfCombatMoveSpeed': 3.98, 'sightRange': 9.2, 'attackRange': 4.0, 'criticalStrikeChance': 99.0, 'criticalStrikeDamage': 0.0, 'coolDownReduction': 15.000001, 'lifeSteal': 0.0, 'normalLifeSteal': 0.0, 'skillLifeSteal': 0.0, 'amplifierToMonster': 30.000002, 'trapDamage': 0.0, 'bonusCoin': 0, 'gainExp': 680, 'baseExp': 340, 'bonusExp': 340, 'startDtm': '2024-08-05T22:54:43.043+0900', 'duration': 1223, 'mmrBefore': 2847, 'mmrGain': 74, 'mmrAfter': 2921, 'playTime': 1218, 'watchTime': 0, 'totalTime': 1218, 'survivableTime': 49, 'botAdded': 0, 'botRemain': 0, 'restrictedAreaAccelerated': 0, 'safeAreas': 3, 'teamNumber': 1, 'preMade': 2, 'eventMissionResult': {}, 'gainedNormalMmrKFactor': 0.0, 'victory': 0, 'craftUncommon': 11, 'craftRare': 6, 'craftEpic': 6, 'craftLegend': 4, 'damageToPlayer': 28173, 'damageToPlayer_trap': 0, 'damageToPlayer_basic': 15596, 'damageToPlayer_skill': 11608, 'damageToPlayer_itemSkill': 210, 'damageToPlayer_direct': 759, 'damageToPlayer_uniqueSkill': 0, 'damageFromPlayer': 14101, 'damageFromPlayer_trap': 0, 'damageFromPlayer_basic': 1493, 'damageFromPlayer_skill': 10210, 'damageFromPlayer_itemSkill': 1226, 'damageFromPlayer_direct': 1172, 'damageFromPlayer_uniqueSkill': 0, 'damageToMonster': 64104, 'damageToMonster_trap': 0, 'damageToMonster_basic': 46200, 'damageToMonster_skill': 16244, 'damageToMonster_itemSkill': 543, 'damageToMonster_direct': 1117, 'damageToMonster_uniqueSkill': 0, 'damageFromMonster': 3340, 'damageToPlayer_Shield': 0, 'damageOffsetedByShield_Player': 0, 'damageOffsetedByShield_Monster': 0, 'killMonsters': {'1': 12, '4': 2, '3': 7, '5': 11, '6': 3, '2': 7, '9': 1}, 'healAmount': 10399, 'teamRecover': 0, 'protectAbsorb': 0, 'addSurveillanceCamera': 3, 'addTelephotoCamera': 10, 'removeSurveillanceCamera': 0, 'removeTelephotoCamera': 2, 'useHyperLoop': 0, 'useSecurityConsole': 4, 'giveUp': 0, 'teamSpectator': 0, 'routeIdOfStart': 2939, 'routeSlotId': 1, 'placeOfStart': '110', 'mmrAvg': 2147, 'matchSize': 24, 'teamKill': 18, 'totalFieldKill': 15, 'accountLevel': 116, 'killerUserNum': 4967824, 'killer': 'player', 'killDetail': '우유통과된장통', 'causeOfDeath': '레일 건', 'placeOfDeath': '30', 'killerCharacter': 'Alex', 'killerWeapon': 'Tonfa', 'killerUserNum2': 275935, 'killer2': 'player', 'killDetail2': '한상규파이팅', 'causeOfDeath2': '도그 파이트', 'placeOfDeath2': '30', 'killerCharacter2': 'Hyunwoo', 'killerWeapon2': 'Glove', 'killerUserNum3': 0, 'fishingCount': 0, 'useEmoticonCount': 18, 'expireDtm': '2024-11-03T23:15:07.007+0900', 'traitFirstCore': 7000701, 'traitFirstSub': [7011001, 7010601], 'traitSecondSub': [7310401, 7310501], 'airSupplyOpenCount': [0, 0, 2, 1, 0, 1, 0], 'foodCraftCount': [0, 0, 3, 0, 0, 0, 0], 'beverageCraftCount': [0, 0, 0, 0, 0, 0, 0], 'rankPoint': 2921, 'totalTurbineTakeOver': 0, 'usedNormalHealPack': 0, 'usedReinforcedHealPack': 0, 'usedNormalShieldPack': 0, 'usedReinforceShieldPack': 0, 'totalVFCredits': [0, 65, 49, 86, 62, 70, 48, 67, 93, 80, 57, 84, 42, 37, 63, 49, 42, 156, 12, 34], 'usedVFCredits': [0, 10, 100, 0, 0, 0, 0, 280, 0, 30, 0, 200, 0, 0, 200, 0, 0, 0, 0, 0], 'sumTotalVFCredits': 1196, 'sumUsedVFCredits': 820, 'craftMythic': 0, 'playerDeaths': 2, 'killGamma': False, 'scoredPoint': [0, 0, 0, 0, 0, 0, 0, 0, 0, 0, 0, 0, 0, 0, 0, 0, 0, 0, 0, 0], 'killDetails': '{\"13\":2,\"2\":2,\"74\":2,\"63\":1,\"31\":1,\"67\":1,\"11\":1,\"16\":1}', 'deathDetails': '{\"27\":1,\"7\":1}', 'killsPhaseOne': 1, 'killsPhaseTwo': 1, 'killsPhaseThree': 3, 'deathsPhaseOne': 0, 'deathsPhaseTwo': 0, 'deathsPhaseThree': 0, 'usedPairLoop': 0, 'ccTimeToPlayer': 21.366669, 'creditSource': {'PreliminaryPhase': 40.0, 'TacticalSkillUpgrade': 110.0, 'TimeElapsedCompensationByMiliSecond': 643.0, 'TimeElapsedCreditBonusByMiliSecond': 28.2000713, 'KillChicken': 26.0, 'KillWildDog': 6.0, 'KillBoar': 14.0, 'KillWolf': 38.0, 'KillPlayerMerge': 120.0, 'KillBat': 18.0, 'GoldSecurityConsoleAccess': 20.0, 'KillBear': 30.0, 'KillAssistDivideContribute': 55.0, 'KillMutantChicken': 4.0, 'KillMutantBat': 4.0, 'TransferConsoleSpecialMaterial': 650.0, 'KillMutantWolf': 50.0, 'TransferConsoleRemoteDroneMySelf': 60.0, 'ItemBounty': 140.0, 'KillMutantWildDog': 24.0, 'KillMutantBoar': 10.0, 'KillOmega': 5.0, 'KillWickline': 3.0}, 'boughtInfusion': '{}', 'itemTransferredConsole': [401304, 401209, 401209], 'itemTransferredDrone': [118101, 401101], 'escapeState': 3, 'totalDoubleKill': 0, 'totalTripleKill': 0, 'totalQuadraKill': 0, 'totalExtraKill': 0, 'collectItemForLog': [0, 2, 1, 0, 1, 1, 1], 'equipFirstItemForLog': {'0': [118406], '1': [202418], '2': [201414], '3': [203405], '4': [204408]}, 'battleZone1AreaCode': 150, 'battleZone1BattleMark': 3, 'battleZone1ItemCode': [401304], 'battleZone2AreaCode': 0, 'battleZone2BattleMark': 0, 'battleZone2ItemCode': [], 'battleZone3AreaCode': 0, 'battleZone3BattleMark': 0, 'battleZone3ItemCode': [], 'battleZonePlayerKill': 2, 'battleZoneDeaths': 0, 'battleZone1Winner': 1, 'battleZone2Winner': 0, 'battleZone3Winner': 0, 'battleZone1BattleMarkCount': 6, 'battleZone2BattleMarkCount': 0, 'battleZone3BattleMarkCount': 0, 'tacticalSkillGroup': 30, 'tacticalSkillLevel': 2, 'totalGainVFCredit': 1278, 'killPlayerGainVFCredit': 120, 'killChickenGainVFCredit': 30, 'killBoarGainVFCredit': 24, 'killWildDogGainVFCredit': 30, 'killWolfGainVFCredit': 88, 'killBearGainVFCredit': 30, 'killOmegaGainVFCredit': 5, 'killBatGainVFCredit': 22, 'killWicklineGainVFCredit': 3, 'killAlphaGainVFCredit': 0, 'killItemBountyGainVFCredit': 140, 'killDroneGainVFCredit': 0, 'killGammaGainVFCredit': 0, 'killTurretGainVFCredit': 0, 'itemShredderGainVFCredit': 0, 'totalUseVFCredit': 820, 'remoteDroneUseVFCreditMySelf': 60, 'remoteDroneUseVFCreditAlly': 0, 'transferConsoleFromMaterialUseVFCredit': 650, 'transferConsoleFromEscapeKeyUseVFCredit': 0, 'transferConsoleFromRevivalUseVFCredit': 0, 'tacticalSkillUpgradeUseVFCredit': 110, 'infusionReRollUseVFCredit': 0, 'infusionTraitUseVFCredit': 0, 'infusionRelicUseVFCredit': 0, 'infusionStoreUseVFCredit': 0, 'teamElimination': 9, 'teamDown': 6, 'teamBattleZoneDown': 3, 'teamRepeatDown': 0, 'adaptiveForce': 8, 'adaptiveForceAttack': 8, 'adaptiveForceAmplify': 0, 'skillAmp': 0, 'campFireCraftUncommon': 0, 'campFireCraftRare': 1, 'campFireCraftEpic': 0, 'campFireCraftLegendary': 0, 'cobaltRandomPickRemoveCharacter': 0, 'tacticalSkillUseCount': 5, 'creditRevivalCount': 1, 'creditRevivedOthersCount': 0, 'timeSpentInBriefingRoom': 60, 'IsLeavingBeforeCreditRevivalTerminate': False, 'crGetAnimal': 140, 'crGetMutant': 92, 'crGetPhaseStart': 0, 'crGetKill': 120, 'crGetAssist': 0, 'crGetTimeElapsed': 643, 'crGetCreditBonus': 28, 'crUseRemoteDrone': 60, 'crUseUpgradeTacticalSkill': 100, 'crUseTreeOfLife': 0, 'crUseMeteorite': 400, 'crUseMythril': 250, 'crUseForceCore': 0, 'crUseVFBloodSample': 0, 'crUseActivationModule': 0, 'crUseRootkit': 0, 'mmrGainInGame': 103, 'mmrLossEntryCost': -29, 'premadeMatchingType': 1, 'viewContribution': 19, 'useReconDrone': 0, 'useEmpDrone': 0, 'exceptPreMadeTeam': False, 'terminateCount': 1, 'clutchCount': 0, 'unknownKill': 0, 'mainWeather': 10002, 'subWeather': 10501, 'activeInstallation': {'4': 2, '3': 4, '1': 1, '6': 1, '2': 2}, 'isLeavingBeforeCreditRevivalTerminate': False}\n"
     ]
    }
   ],
   "source": [
    "import requests\n",
    "\n",
    "api_key = \"tFsiNYGlx9804COuSaIew4n2HQuDE31faZmSiMl3\"\n",
    "base_url = \"https://open-api.bser.io/v1/\"\n",
    "headers = {\"x-api-key\": api_key}\n",
    "nick = \"Cranz\"\n",
    "info_req = requests.get(f\"{base_url}user/nickname?query={nick}\", headers=headers)\n",
    "userNum = info_req.json()[\"user\"][\"userNum\"]\n",
    "seasonId = 25 #EA9*2 = 18  정규3*2 = 6\n",
    "matchingTeamMode = 3\n",
    "\n",
    "rank_req = requests.get(f\"{base_url}user/games/{userNum}\", headers=headers)\n",
    "print(rank_req.json()[\"userGames\"][0])"
   ]
  },
  {
   "cell_type": "code",
   "execution_count": null,
   "metadata": {},
   "outputs": [],
   "source": []
  }
 ],
 "metadata": {
  "kernelspec": {
   "display_name": "Python 3",
   "language": "python",
   "name": "python3"
  },
  "language_info": {
   "codemirror_mode": {
    "name": "ipython",
    "version": 3
   },
   "file_extension": ".py",
   "mimetype": "text/x-python",
   "name": "python",
   "nbconvert_exporter": "python",
   "pygments_lexer": "ipython3",
   "version": "3.12.1"
  }
 },
 "nbformat": 4,
 "nbformat_minor": 2
}
