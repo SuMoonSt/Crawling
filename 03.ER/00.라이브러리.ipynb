{
 "cells": [
  {
   "cell_type": "code",
   "execution_count": 3,
   "metadata": {},
   "outputs": [
    {
     "name": "stdout",
     "output_type": "stream",
     "text": [
      "Collecting tesseract\n",
      "  Downloading tesseract-0.1.3.tar.gz (45.6 MB)\n",
      "     ---------------------------------------- 0.0/45.6 MB ? eta -:--:--\n",
      "      --------------------------------------- 1.0/45.6 MB 25.4 MB/s eta 0:00:02\n",
      "     - -------------------------------------- 2.1/45.6 MB 4.9 MB/s eta 0:00:09\n",
      "     ---- ----------------------------------- 5.2/45.6 MB 8.6 MB/s eta 0:00:05\n",
      "     ----- ---------------------------------- 6.6/45.6 MB 7.9 MB/s eta 0:00:05\n",
      "     -------- ------------------------------ 10.2/45.6 MB 10.1 MB/s eta 0:00:04\n",
      "     ------------ -------------------------- 14.7/45.6 MB 12.0 MB/s eta 0:00:03\n",
      "     ----------------- --------------------- 19.9/45.6 MB 13.8 MB/s eta 0:00:02\n",
      "     ------------------- ------------------- 23.1/45.6 MB 14.3 MB/s eta 0:00:02\n",
      "     ----------------------- --------------- 27.0/45.6 MB 14.4 MB/s eta 0:00:02\n",
      "     --------------------------- ----------- 32.0/45.6 MB 15.4 MB/s eta 0:00:01\n",
      "     ------------------------------- ------- 37.2/45.6 MB 16.3 MB/s eta 0:00:01\n",
      "     ------------------------------------ -- 42.2/45.6 MB 17.0 MB/s eta 0:00:01\n",
      "     --------------------------------------  45.4/45.6 MB 17.3 MB/s eta 0:00:01\n",
      "     --------------------------------------- 45.6/45.6 MB 16.8 MB/s eta 0:00:00\n",
      "  Installing build dependencies: started\n",
      "  Installing build dependencies: finished with status 'done'\n",
      "  Getting requirements to build wheel: started\n",
      "  Getting requirements to build wheel: finished with status 'done'\n",
      "  Preparing metadata (pyproject.toml): started\n",
      "  Preparing metadata (pyproject.toml): finished with status 'done'\n",
      "Building wheels for collected packages: tesseract\n",
      "  Building wheel for tesseract (pyproject.toml): started\n",
      "  Building wheel for tesseract (pyproject.toml): finished with status 'done'\n",
      "  Created wheel for tesseract: filename=tesseract-0.1.3-py3-none-any.whl size=45562570 sha256=bca36e0b6291c7004c09048446acd7cc7a97c02d4db63c453b77e45d4843972d\n",
      "  Stored in directory: c:\\users\\moon\\appdata\\local\\pip\\cache\\wheels\\13\\1f\\8e\\2d6c0e358fd6d01ca80ecd9185a374bcda35879f4fec727242\n",
      "Successfully built tesseract\n",
      "Installing collected packages: tesseract\n",
      "Successfully installed tesseract-0.1.3\n",
      "Note: you may need to restart the kernel to use updated packages.\n"
     ]
    }
   ],
   "source": [
    "pip install tesseract"
   ]
  },
  {
   "cell_type": "code",
   "execution_count": null,
   "metadata": {},
   "outputs": [],
   "source": []
  }
 ],
 "metadata": {
  "kernelspec": {
   "display_name": "Python 3",
   "language": "python",
   "name": "python3"
  },
  "language_info": {
   "codemirror_mode": {
    "name": "ipython",
    "version": 3
   },
   "file_extension": ".py",
   "mimetype": "text/x-python",
   "name": "python",
   "nbconvert_exporter": "python",
   "pygments_lexer": "ipython3",
   "version": "3.12.1"
  }
 },
 "nbformat": 4,
 "nbformat_minor": 2
}
