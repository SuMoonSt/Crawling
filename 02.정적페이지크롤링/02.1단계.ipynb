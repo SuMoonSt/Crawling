{
 "cells": [
  {
   "cell_type": "code",
   "execution_count": 8,
   "metadata": {},
   "outputs": [],
   "source": [
    "import requests\n",
    "from bs4 import BeautifulSoup\n",
    "\n",
    "response = requests.get(\"https://startcoding.pythonanywhere.com/basic\")\n",
    "html = response.text\n",
    "soup = BeautifulSoup(html, 'html.parser')"
   ]
  },
  {
   "cell_type": "code",
   "execution_count": 36,
   "metadata": {},
   "outputs": [
    {
     "name": "stdout",
     "output_type": "stream",
     "text": [
      "1,419,000원\n",
      "1,419,000\n",
      "549,000\n",
      "529,000\n",
      "624,000\n",
      "1,135,000\n",
      "398,000\n",
      "899,000\n",
      "929,000\n",
      "1,008,000\n",
      "1,149,000\n"
     ]
    }
   ],
   "source": [
    "print(soup.select_one(\".product-price\").text.strip())\n",
    "\n",
    "product_prices = soup.select(\".product-price\") #alt+win+j\n",
    "prices = [price.get_text(strip=True) for price in product_prices]\n",
    "for i in range(10):\n",
    "    print(prices[i].split(\"원\")[0])"
   ]
  },
  {
   "cell_type": "code",
   "execution_count": null,
   "metadata": {},
   "outputs": [],
   "source": []
  }
 ],
 "metadata": {
  "kernelspec": {
   "display_name": "Python 3",
   "language": "python",
   "name": "python3"
  },
  "language_info": {
   "codemirror_mode": {
    "name": "ipython",
    "version": 3
   },
   "file_extension": ".py",
   "mimetype": "text/x-python",
   "name": "python",
   "nbconvert_exporter": "python",
   "pygments_lexer": "ipython3",
   "version": "3.12.1"
  }
 },
 "nbformat": 4,
 "nbformat_minor": 2
}
