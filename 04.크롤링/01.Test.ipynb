{
 "cells": [
  {
   "cell_type": "code",
   "execution_count": 2,
   "metadata": {},
   "outputs": [],
   "source": [
    "import requests\n",
    "from bs4 import BeautifulSoup\n",
    "\n",
    "html = \"\"\n",
    "\n",
    "soup = BeautifulSoup(html,\"html.parser\")\n",
    "\n",
    "url = \"https://news.naver.com/search.naver\"\n",
    "keyword = \"정처기\"\n",
    "res = requests.get(url, params={'query' : keyword})\n",
    "\n",
    "result_doc= res.text\n",
    "result_doc_row = result_doc.split(\"<\")\n",
    "\n",
    "trgt_list = []\n",
    "\n",
    "for text in result_doc_row:\n",
    "    if text:\n",
    "        trgt_idx = text.find('정보처리기사')\n",
    "        trgt = text[trgt_idx]\n",
    "        if len(trgt) > 6:\n",
    "            trgt_list.append(trgt)\n",
    "\n",
    "trgt_list = trgt_list[1:]\n",
    "print(trgt_list)"
   ]
  },
  {
   "cell_type": "code",
   "execution_count": null,
   "metadata": {},
   "outputs": [],
   "source": []
  }
 ],
 "metadata": {
  "kernelspec": {
   "display_name": "Python 3",
   "language": "python",
   "name": "python3"
  },
  "language_info": {
   "codemirror_mode": {
    "name": "ipython",
    "version": 3
   },
   "file_extension": ".py",
   "mimetype": "text/x-python",
   "name": "python",
   "nbconvert_exporter": "python",
   "pygments_lexer": "ipython3",
   "version": "3.12.1"
  }
 },
 "nbformat": 4,
 "nbformat_minor": 2
}
